{
  "nbformat": 4,
  "nbformat_minor": 0,
  "metadata": {
    "colab": {
      "provenance": [],
      "gpuType": "T4",
      "authorship_tag": "ABX9TyMETGsTYcoITMecKyXKHhar",
      "include_colab_link": true
    },
    "kernelspec": {
      "name": "python3",
      "display_name": "Python 3"
    },
    "language_info": {
      "name": "python"
    },
    "accelerator": "GPU"
  },
  "cells": [
    {
      "cell_type": "markdown",
      "metadata": {
        "id": "view-in-github",
        "colab_type": "text"
      },
      "source": [
        "<a href=\"https://colab.research.google.com/github/Arru2003/Alzheimer-detection/blob/main/MobileNet.ipynb\" target=\"_parent\"><img src=\"https://colab.research.google.com/assets/colab-badge.svg\" alt=\"Open In Colab\"/></a>"
      ]
    },
    {
      "cell_type": "code",
      "execution_count": 1,
      "metadata": {
        "colab": {
          "base_uri": "https://localhost:8080/"
        },
        "id": "4RZ_NirfCWDQ",
        "outputId": "fdbd94c9-c775-4351-8956-eabc9071f949"
      },
      "outputs": [
        {
          "output_type": "stream",
          "name": "stdout",
          "text": [
            "\u001b[2K   \u001b[90m━━━━━━━━━━━━━━━━━━━━━━━━━━━━━━━━━━━━━━━━\u001b[0m \u001b[32m46.9/46.9 MB\u001b[0m \u001b[31m20.6 MB/s\u001b[0m eta \u001b[36m0:00:00\u001b[0m\n",
            "\u001b[2K   \u001b[90m━━━━━━━━━━━━━━━━━━━━━━━━━━━━━━━━━━━━━━━━\u001b[0m \u001b[32m322.2/322.2 kB\u001b[0m \u001b[31m20.3 MB/s\u001b[0m eta \u001b[36m0:00:00\u001b[0m\n",
            "\u001b[2K   \u001b[90m━━━━━━━━━━━━━━━━━━━━━━━━━━━━━━━━━━━━━━━━\u001b[0m \u001b[32m95.2/95.2 kB\u001b[0m \u001b[31m9.0 MB/s\u001b[0m eta \u001b[36m0:00:00\u001b[0m\n",
            "\u001b[2K   \u001b[90m━━━━━━━━━━━━━━━━━━━━━━━━━━━━━━━━━━━━━━━━\u001b[0m \u001b[32m11.5/11.5 MB\u001b[0m \u001b[31m27.7 MB/s\u001b[0m eta \u001b[36m0:00:00\u001b[0m\n",
            "\u001b[2K   \u001b[90m━━━━━━━━━━━━━━━━━━━━━━━━━━━━━━━━━━━━━━━━\u001b[0m \u001b[32m72.0/72.0 kB\u001b[0m \u001b[31m6.4 MB/s\u001b[0m eta \u001b[36m0:00:00\u001b[0m\n",
            "\u001b[2K   \u001b[90m━━━━━━━━━━━━━━━━━━━━━━━━━━━━━━━━━━━━━━━━\u001b[0m \u001b[32m62.5/62.5 kB\u001b[0m \u001b[31m5.6 MB/s\u001b[0m eta \u001b[36m0:00:00\u001b[0m\n",
            "\u001b[?25h"
          ]
        }
      ],
      "source": [
        "# Install necessary libraries\n",
        "!pip install gradio opencv-python tensorflow numpy matplotlib scikit-learn gdown albumentations -q"
      ]
    },
    {
      "cell_type": "code",
      "source": [
        "# Imports\n",
        "import os\n",
        "import numpy as np\n",
        "import pandas as pd\n",
        "import cv2\n",
        "import random\n",
        "import matplotlib.pyplot as plt\n",
        "import datetime\n",
        "import zipfile\n",
        "\n",
        "from sklearn.model_selection import StratifiedKFold\n",
        "from sklearn.preprocessing import LabelEncoder\n",
        "from sklearn.utils.class_weight import compute_class_weight\n",
        "from sklearn.metrics import classification_report, confusion_matrix, ConfusionMatrixDisplay\n",
        "\n",
        "import tensorflow as tf\n",
        "from tensorflow.keras.utils import to_categorical, Sequence\n",
        "from tensorflow.keras.models import Model\n",
        "from tensorflow.keras.layers import Input, Dense, Dropout, GlobalAveragePooling2D\n",
        "from tensorflow.keras.optimizers import Adam\n",
        "from tensorflow.keras.callbacks import EarlyStopping, ReduceLROnPlateau, ModelCheckpoint, TensorBoard\n",
        "from tensorflow.keras.applications import MobileNetV2\n",
        "import albumentations as A\n",
        "\n",
        "import gradio as gr\n",
        "\n",
        "# Seed\n",
        "SEED = 42\n",
        "random.seed(SEED)\n",
        "np.random.seed(SEED)\n",
        "tf.random.set_seed(SEED)\n"
      ],
      "metadata": {
        "id": "8KrkmpFXChCg"
      },
      "execution_count": 2,
      "outputs": []
    },
    {
      "cell_type": "code",
      "source": [
        "# Download and extract dataset\n",
        "!gdown --id 1vCWykHw2CxTwOpbHFN7Ke5z5a34q8Ze3 -O data.zip\n",
        "with zipfile.ZipFile(\"data.zip\", 'r') as zip_ref:\n",
        "    zip_ref.extractall(\"dataset\")\n",
        "\n",
        "DATASET_PATH = \"dataset\"\n",
        "IMG_SIZE = 128\n",
        "\n",
        "file_paths, labels = [], []\n",
        "for label in os.listdir(DATASET_PATH):\n",
        "    class_dir = os.path.join(DATASET_PATH, label)\n",
        "    for fname in os.listdir(class_dir):\n",
        "        file_paths.append(os.path.join(class_dir, fname))\n",
        "        labels.append(label)\n"
      ],
      "metadata": {
        "colab": {
          "base_uri": "https://localhost:8080/"
        },
        "id": "bFykRQk_CmrZ",
        "outputId": "4b87ba44-4d3e-4c2d-9fee-e25d51456194"
      },
      "execution_count": 3,
      "outputs": [
        {
          "output_type": "stream",
          "name": "stdout",
          "text": [
            "/usr/local/lib/python3.11/dist-packages/gdown/__main__.py:140: FutureWarning: Option `--id` was deprecated in version 4.3.1 and will be removed in 5.0. You don't need to pass it anymore to use a file ID.\n",
            "  warnings.warn(\n",
            "Downloading...\n",
            "From (original): https://drive.google.com/uc?id=1vCWykHw2CxTwOpbHFN7Ke5z5a34q8Ze3\n",
            "From (redirected): https://drive.google.com/uc?id=1vCWykHw2CxTwOpbHFN7Ke5z5a34q8Ze3&confirm=t&uuid=a4aeddc0-f693-4bd8-984c-2d4580bd64d8\n",
            "To: /content/data.zip\n",
            "100% 1.32G/1.32G [00:17<00:00, 77.1MB/s]\n"
          ]
        }
      ]
    },
    {
      "cell_type": "code",
      "source": [
        "# Label Encoding\n",
        "le = LabelEncoder()\n",
        "labels_encoded = le.fit_transform(labels)\n",
        "labels_cat = to_categorical(labels_encoded)\n",
        "\n",
        "# Compute class weights\n",
        "class_weights = compute_class_weight('balanced', classes=np.unique(labels_encoded), y=labels_encoded)\n",
        "class_weights = dict(enumerate(class_weights))\n"
      ],
      "metadata": {
        "id": "wJ-mjGg-CqxF"
      },
      "execution_count": 4,
      "outputs": []
    },
    {
      "cell_type": "code",
      "source": [
        "class MRIDataGenerator(Sequence):\n",
        "    def __init__(self, file_paths, labels, batch_size=32, img_size=128, augment=False, shuffle=True):\n",
        "        self.file_paths = file_paths\n",
        "        self.labels = labels\n",
        "        self.batch_size = batch_size\n",
        "        self.img_size = img_size\n",
        "        self.augment = augment\n",
        "        self.shuffle = shuffle\n",
        "        self.on_epoch_end()\n",
        "\n",
        "        self.transform = A.Compose([\n",
        "            A.Resize(self.img_size, self.img_size),\n",
        "            A.OneOf([\n",
        "                A.HorizontalFlip(p=0.5),\n",
        "                A.RandomRotate90(p=0.5),\n",
        "                A.ShiftScaleRotate(p=0.5),\n",
        "                A.RandomBrightnessContrast(p=0.5),\n",
        "                A.CLAHE(p=0.5),\n",
        "                A.HueSaturationValue(p=0.5)\n",
        "            ], p=0.7),\n",
        "            A.Normalize()\n",
        "        ])\n",
        "\n",
        "    def __len__(self):\n",
        "        return int(np.ceil(len(self.file_paths) / self.batch_size))\n",
        "\n",
        "    def __getitem__(self, index):\n",
        "        batch_paths = self.file_paths[index * self.batch_size:(index + 1) * self.batch_size]\n",
        "        batch_labels = self.labels[index * self.batch_size:(index + 1) * self.batch_size]\n",
        "\n",
        "        images = []\n",
        "        for path in batch_paths:\n",
        "            img = cv2.imread(path)\n",
        "            img = cv2.cvtColor(img, cv2.COLOR_BGR2RGB)\n",
        "            if self.augment:\n",
        "                img = self.transform(image=img)['image']\n",
        "            else:\n",
        "                img = cv2.resize(img, (self.img_size, self.img_size)) / 255.0\n",
        "            images.append(img)\n",
        "\n",
        "        return np.array(images), np.array(batch_labels)\n",
        "\n",
        "    def on_epoch_end(self):\n",
        "        if self.shuffle:\n",
        "            zipped = list(zip(self.file_paths, self.labels))\n",
        "            random.shuffle(zipped)\n",
        "            self.file_paths, self.labels = zip(*zipped)\n"
      ],
      "metadata": {
        "id": "4gmlaOIMCxQg"
      },
      "execution_count": 5,
      "outputs": []
    },
    {
      "cell_type": "code",
      "source": [
        "def build_mobilenet_model(input_shape=(128, 128, 3), num_classes=4, fine_tune_at=80):\n",
        "    base_model = MobileNetV2(weights='imagenet', include_top=False, input_shape=input_shape)\n",
        "    base_model.trainable = True\n",
        "\n",
        "    # Gradual unfreezing\n",
        "    for layer in base_model.layers[:fine_tune_at]:\n",
        "        layer.trainable = False\n",
        "\n",
        "    x = base_model.output\n",
        "    x = GlobalAveragePooling2D()(x)\n",
        "    x = Dense(512, activation='relu')(x)\n",
        "    x = Dropout(0.5)(x)\n",
        "    output = Dense(num_classes, activation='softmax', name='final_output')(x)\n",
        "\n",
        "    model = Model(inputs=base_model.input, outputs=output)\n",
        "    return model\n"
      ],
      "metadata": {
        "id": "EouxkNbdC1yc"
      },
      "execution_count": 6,
      "outputs": []
    },
    {
      "cell_type": "code",
      "source": [
        "skf = StratifiedKFold(n_splits=3, shuffle=True, random_state=SEED)\n",
        "fold = 1\n",
        "all_histories = []\n",
        "\n",
        "for train_idx, val_idx in skf.split(file_paths, labels_encoded):\n",
        "    print(f\"\\n📂 Training Fold {fold}\")\n",
        "\n",
        "    # Prepare train/val sets\n",
        "    train_files = [file_paths[i] for i in train_idx]\n",
        "    val_files = [file_paths[i] for i in val_idx]\n",
        "    train_labels = to_categorical([labels_encoded[i] for i in train_idx])\n",
        "    val_labels = to_categorical([labels_encoded[i] for i in val_idx])\n",
        "\n",
        "    # Generators\n",
        "    train_gen = MRIDataGenerator(train_files, train_labels, augment=True)\n",
        "    val_gen = MRIDataGenerator(val_files, val_labels, augment=False)\n",
        "\n",
        "    # Model\n",
        "    model = build_mobilenet_model()\n",
        "    model.compile(optimizer=Adam(learning_rate=0.0003),\n",
        "                  loss='categorical_crossentropy',\n",
        "                  metrics=['accuracy'])\n",
        "\n",
        "    # Callbacks\n",
        "    log_dir = f\"logs/fold_{fold}_\" + datetime.datetime.now().strftime(\"%Y%m%d-%H%M%S\")\n",
        "    callbacks = [\n",
        "        TensorBoard(log_dir=log_dir),\n",
        "        EarlyStopping(patience=7, restore_best_weights=True),\n",
        "        ModelCheckpoint(f\"mobilenet_best_fold_{fold}.h5\", save_best_only=True),\n",
        "        ReduceLROnPlateau(monitor='val_loss', factor=0.3, patience=3, verbose=1)\n",
        "    ]\n",
        "\n",
        "    # Train\n",
        "    history = model.fit(train_gen,\n",
        "                        validation_data=val_gen,\n",
        "                        epochs=50,\n",
        "                        callbacks=callbacks,\n",
        "                        class_weight=class_weights)\n",
        "\n",
        "    all_histories.append(history)\n",
        "    fold += 1\n"
      ],
      "metadata": {
        "colab": {
          "base_uri": "https://localhost:8080/"
        },
        "id": "gkCp11B0C_XE",
        "outputId": "19235f4c-5975-4174-e3d7-47d7893d51d0"
      },
      "execution_count": 7,
      "outputs": [
        {
          "metadata": {
            "tags": null
          },
          "name": "stdout",
          "output_type": "stream",
          "text": [
            "\n",
            "📂 Training Fold 1\n"
          ]
        },
        {
          "metadata": {
            "tags": null
          },
          "name": "stderr",
          "output_type": "stream",
          "text": [
            "/usr/local/lib/python3.11/dist-packages/albumentations/core/validation.py:87: UserWarning: ShiftScaleRotate is a special case of Affine transform. Please use Affine transform instead.\n",
            "  original_init(self, **validated_kwargs)\n"
          ]
        },
        {
          "metadata": {
            "tags": null
          },
          "name": "stdout",
          "output_type": "stream",
          "text": [
            "Downloading data from https://storage.googleapis.com/tensorflow/keras-applications/mobilenet_v2/mobilenet_v2_weights_tf_dim_ordering_tf_kernels_1.0_128_no_top.h5\n",
            "\u001b[1m9406464/9406464\u001b[0m \u001b[32m━━━━━━━━━━━━━━━━━━━━\u001b[0m\u001b[37m\u001b[0m \u001b[1m2s\u001b[0m 0us/step\n"
          ]
        },
        {
          "metadata": {
            "tags": null
          },
          "name": "stderr",
          "output_type": "stream",
          "text": [
            "/usr/local/lib/python3.11/dist-packages/keras/src/trainers/data_adapters/py_dataset_adapter.py:121: UserWarning: Your `PyDataset` class should call `super().__init__(**kwargs)` in its constructor. `**kwargs` can include `workers`, `use_multiprocessing`, `max_queue_size`. Do not pass these arguments to `fit()`, as they will be ignored.\n",
            "  self._warn_if_super_not_called()\n"
          ]
        },
        {
          "metadata": {
            "tags": null
          },
          "name": "stdout",
          "output_type": "stream",
          "text": [
            "Epoch 1/50\n",
            "\u001b[1m1801/1801\u001b[0m \u001b[32m━━━━━━━━━━━━━━━━━━━━\u001b[0m\u001b[37m\u001b[0m \u001b[1m0s\u001b[0m 74ms/step - accuracy: 0.5577 - loss: 1.2046"
          ]
        },
        {
          "metadata": {
            "tags": null
          },
          "name": "stderr",
          "output_type": "stream",
          "text": [
            "WARNING:absl:You are saving your model as an HDF5 file via `model.save()` or `keras.saving.save_model(model)`. This file format is considered legacy. We recommend using instead the native Keras format, e.g. `model.save('my_model.keras')` or `keras.saving.save_model(model, 'my_model.keras')`. \n"
          ]
        },
        {
          "metadata": {
            "tags": null
          },
          "name": "stdout",
          "output_type": "stream",
          "text": [
            "\u001b[1m1801/1801\u001b[0m \u001b[32m━━━━━━━━━━━━━━━━━━━━\u001b[0m\u001b[37m\u001b[0m \u001b[1m222s\u001b[0m 101ms/step - accuracy: 0.5578 - loss: 1.2045 - val_accuracy: 0.4205 - val_loss: 1.1151 - learning_rate: 3.0000e-04\n",
            "Epoch 2/50\n",
            "\u001b[1m1801/1801\u001b[0m \u001b[32m━━━━━━━━━━━━━━━━━━━━\u001b[0m\u001b[37m\u001b[0m \u001b[1m145s\u001b[0m 81ms/step - accuracy: 0.6915 - loss: 0.6891 - val_accuracy: 0.0325 - val_loss: 5.4571 - learning_rate: 3.0000e-04\n",
            "Epoch 3/50\n",
            "\u001b[1m1801/1801\u001b[0m \u001b[32m━━━━━━━━━━━━━━━━━━━━\u001b[0m\u001b[37m\u001b[0m \u001b[1m148s\u001b[0m 82ms/step - accuracy: 0.7450 - loss: 0.5291 - val_accuracy: 0.4858 - val_loss: 2.2600 - learning_rate: 3.0000e-04\n",
            "Epoch 4/50\n",
            "\u001b[1m1801/1801\u001b[0m \u001b[32m━━━━━━━━━━━━━━━━━━━━\u001b[0m\u001b[37m\u001b[0m \u001b[1m0s\u001b[0m 62ms/step - accuracy: 0.7571 - loss: 0.5079\n",
            "Epoch 4: ReduceLROnPlateau reducing learning rate to 9.000000427477062e-05.\n",
            "\u001b[1m1801/1801\u001b[0m \u001b[32m━━━━━━━━━━━━━━━━━━━━\u001b[0m\u001b[37m\u001b[0m \u001b[1m147s\u001b[0m 82ms/step - accuracy: 0.7571 - loss: 0.5079 - val_accuracy: 0.0351 - val_loss: 5.3130 - learning_rate: 3.0000e-04\n",
            "Epoch 5/50\n",
            "\u001b[1m1801/1801\u001b[0m \u001b[32m━━━━━━━━━━━━━━━━━━━━\u001b[0m\u001b[37m\u001b[0m \u001b[1m0s\u001b[0m 60ms/step - accuracy: 0.7321 - loss: 0.4306"
          ]
        },
        {
          "metadata": {
            "tags": null
          },
          "name": "stderr",
          "output_type": "stream",
          "text": [
            "WARNING:absl:You are saving your model as an HDF5 file via `model.save()` or `keras.saving.save_model(model)`. This file format is considered legacy. We recommend using instead the native Keras format, e.g. `model.save('my_model.keras')` or `keras.saving.save_model(model, 'my_model.keras')`. \n"
          ]
        },
        {
          "metadata": {
            "tags": null
          },
          "name": "stdout",
          "output_type": "stream",
          "text": [
            "\u001b[1m1801/1801\u001b[0m \u001b[32m━━━━━━━━━━━━━━━━━━━━\u001b[0m\u001b[37m\u001b[0m \u001b[1m149s\u001b[0m 83ms/step - accuracy: 0.7321 - loss: 0.4306 - val_accuracy: 0.7211 - val_loss: 0.9047 - learning_rate: 9.0000e-05\n",
            "Epoch 6/50\n",
            "\u001b[1m1801/1801\u001b[0m \u001b[32m━━━━━━━━━━━━━━━━━━━━\u001b[0m\u001b[37m\u001b[0m \u001b[1m149s\u001b[0m 82ms/step - accuracy: 0.8584 - loss: 0.2601 - val_accuracy: 0.7336 - val_loss: 1.0504 - learning_rate: 9.0000e-05\n",
            "Epoch 7/50\n",
            "\u001b[1m1801/1801\u001b[0m \u001b[32m━━━━━━━━━━━━━━━━━━━━\u001b[0m\u001b[37m\u001b[0m \u001b[1m242s\u001b[0m 105ms/step - accuracy: 0.8825 - loss: 0.2294 - val_accuracy: 0.7174 - val_loss: 0.9376 - learning_rate: 9.0000e-05\n",
            "Epoch 8/50\n",
            "\u001b[1m1801/1801\u001b[0m \u001b[32m━━━━━━━━━━━━━━━━━━━━\u001b[0m\u001b[37m\u001b[0m \u001b[1m0s\u001b[0m 60ms/step - accuracy: 0.8829 - loss: 0.2312\n",
            "Epoch 8: ReduceLROnPlateau reducing learning rate to 2.700000040931627e-05.\n",
            "\u001b[1m1801/1801\u001b[0m \u001b[32m━━━━━━━━━━━━━━━━━━━━\u001b[0m\u001b[37m\u001b[0m \u001b[1m146s\u001b[0m 81ms/step - accuracy: 0.8829 - loss: 0.2312 - val_accuracy: 0.7250 - val_loss: 0.9341 - learning_rate: 9.0000e-05\n",
            "Epoch 9/50\n",
            "\u001b[1m1801/1801\u001b[0m \u001b[32m━━━━━━━━━━━━━━━━━━━━\u001b[0m\u001b[37m\u001b[0m \u001b[1m150s\u001b[0m 83ms/step - accuracy: 0.9084 - loss: 0.1663 - val_accuracy: 0.6997 - val_loss: 0.9298 - learning_rate: 2.7000e-05\n",
            "Epoch 10/50\n",
            "\u001b[1m1801/1801\u001b[0m \u001b[32m━━━━━━━━━━━━━━━━━━━━\u001b[0m\u001b[37m\u001b[0m \u001b[1m143s\u001b[0m 80ms/step - accuracy: 0.9280 - loss: 0.1315 - val_accuracy: 0.6863 - val_loss: 1.1677 - learning_rate: 2.7000e-05\n",
            "Epoch 11/50\n",
            "\u001b[1m1801/1801\u001b[0m \u001b[32m━━━━━━━━━━━━━━━━━━━━\u001b[0m\u001b[37m\u001b[0m \u001b[1m0s\u001b[0m 60ms/step - accuracy: 0.9290 - loss: 0.1338\n",
            "Epoch 11: ReduceLROnPlateau reducing learning rate to 8.100000013655517e-06.\n",
            "\u001b[1m1801/1801\u001b[0m \u001b[32m━━━━━━━━━━━━━━━━━━━━\u001b[0m\u001b[37m\u001b[0m \u001b[1m146s\u001b[0m 81ms/step - accuracy: 0.9290 - loss: 0.1338 - val_accuracy: 0.6097 - val_loss: 1.2922 - learning_rate: 2.7000e-05\n",
            "Epoch 12/50\n",
            "\u001b[1m1801/1801\u001b[0m \u001b[32m━━━━━━━━━━━━━━━━━━━━\u001b[0m\u001b[37m\u001b[0m \u001b[1m149s\u001b[0m 83ms/step - accuracy: 0.9370 - loss: 0.1111 - val_accuracy: 0.6256 - val_loss: 1.2331 - learning_rate: 8.1000e-06\n",
            "\n",
            "📂 Training Fold 2\n",
            "Epoch 1/50\n",
            "\u001b[1m1801/1801\u001b[0m \u001b[32m━━━━━━━━━━━━━━━━━━━━\u001b[0m\u001b[37m\u001b[0m \u001b[1m0s\u001b[0m 67ms/step - accuracy: 0.5626 - loss: 1.1759"
          ]
        },
        {
          "metadata": {
            "tags": null
          },
          "name": "stderr",
          "output_type": "stream",
          "text": [
            "WARNING:absl:You are saving your model as an HDF5 file via `model.save()` or `keras.saving.save_model(model)`. This file format is considered legacy. We recommend using instead the native Keras format, e.g. `model.save('my_model.keras')` or `keras.saving.save_model(model, 'my_model.keras')`. \n"
          ]
        },
        {
          "metadata": {
            "tags": null
          },
          "name": "stdout",
          "output_type": "stream",
          "text": [
            "\u001b[1m1801/1801\u001b[0m \u001b[32m━━━━━━━━━━━━━━━━━━━━\u001b[0m\u001b[37m\u001b[0m \u001b[1m192s\u001b[0m 93ms/step - accuracy: 0.5626 - loss: 1.1757 - val_accuracy: 0.1543 - val_loss: 2.2310 - learning_rate: 3.0000e-04\n",
            "Epoch 2/50\n",
            "\u001b[1m1801/1801\u001b[0m \u001b[32m━━━━━━━━━━━━━━━━━━━━\u001b[0m\u001b[37m\u001b[0m \u001b[1m147s\u001b[0m 81ms/step - accuracy: 0.6894 - loss: 0.6899 - val_accuracy: 0.2535 - val_loss: 2.9723 - learning_rate: 3.0000e-04\n",
            "Epoch 3/50\n",
            "\u001b[1m1801/1801\u001b[0m \u001b[32m━━━━━━━━━━━━━━━━━━━━\u001b[0m\u001b[37m\u001b[0m \u001b[1m148s\u001b[0m 82ms/step - accuracy: 0.7300 - loss: 0.6108 - val_accuracy: 0.3080 - val_loss: 2.2723 - learning_rate: 3.0000e-04\n",
            "Epoch 4/50\n",
            "\u001b[1m1801/1801\u001b[0m \u001b[32m━━━━━━━━━━━━━━━━━━━━\u001b[0m\u001b[37m\u001b[0m \u001b[1m0s\u001b[0m 59ms/step - accuracy: 0.7309 - loss: 0.5514\n",
            "Epoch 4: ReduceLROnPlateau reducing learning rate to 9.000000427477062e-05.\n",
            "\u001b[1m1801/1801\u001b[0m \u001b[32m━━━━━━━━━━━━━━━━━━━━\u001b[0m\u001b[37m\u001b[0m \u001b[1m142s\u001b[0m 79ms/step - accuracy: 0.7309 - loss: 0.5514 - val_accuracy: 0.7734 - val_loss: 3.2223 - learning_rate: 3.0000e-04\n",
            "Epoch 5/50\n",
            "\u001b[1m1801/1801\u001b[0m \u001b[32m━━━━━━━━━━━━━━━━━━━━\u001b[0m\u001b[37m\u001b[0m \u001b[1m0s\u001b[0m 60ms/step - accuracy: 0.7879 - loss: 0.3954"
          ]
        },
        {
          "metadata": {
            "tags": null
          },
          "name": "stderr",
          "output_type": "stream",
          "text": [
            "WARNING:absl:You are saving your model as an HDF5 file via `model.save()` or `keras.saving.save_model(model)`. This file format is considered legacy. We recommend using instead the native Keras format, e.g. `model.save('my_model.keras')` or `keras.saving.save_model(model, 'my_model.keras')`. \n"
          ]
        },
        {
          "metadata": {
            "tags": null
          },
          "name": "stdout",
          "output_type": "stream",
          "text": [
            "\u001b[1m1801/1801\u001b[0m \u001b[32m━━━━━━━━━━━━━━━━━━━━\u001b[0m\u001b[37m\u001b[0m \u001b[1m190s\u001b[0m 106ms/step - accuracy: 0.7879 - loss: 0.3954 - val_accuracy: 0.7573 - val_loss: 1.0041 - learning_rate: 9.0000e-05\n",
            "Epoch 6/50\n",
            "\u001b[1m1801/1801\u001b[0m \u001b[32m━━━━━━━━━━━━━━━━━━━━\u001b[0m\u001b[37m\u001b[0m \u001b[1m0s\u001b[0m 59ms/step - accuracy: 0.8337 - loss: 0.3002"
          ]
        },
        {
          "metadata": {
            "tags": null
          },
          "name": "stderr",
          "output_type": "stream",
          "text": [
            "WARNING:absl:You are saving your model as an HDF5 file via `model.save()` or `keras.saving.save_model(model)`. This file format is considered legacy. We recommend using instead the native Keras format, e.g. `model.save('my_model.keras')` or `keras.saving.save_model(model, 'my_model.keras')`. \n"
          ]
        },
        {
          "metadata": {
            "tags": null
          },
          "name": "stdout",
          "output_type": "stream",
          "text": [
            "\u001b[1m1801/1801\u001b[0m \u001b[32m━━━━━━━━━━━━━━━━━━━━\u001b[0m\u001b[37m\u001b[0m \u001b[1m146s\u001b[0m 81ms/step - accuracy: 0.8337 - loss: 0.3002 - val_accuracy: 0.7562 - val_loss: 0.9008 - learning_rate: 9.0000e-05\n",
            "Epoch 7/50\n",
            "\u001b[1m1801/1801\u001b[0m \u001b[32m━━━━━━━━━━━━━━━━━━━━\u001b[0m\u001b[37m\u001b[0m \u001b[1m0s\u001b[0m 59ms/step - accuracy: 0.8653 - loss: 0.2451"
          ]
        },
        {
          "metadata": {
            "tags": null
          },
          "name": "stderr",
          "output_type": "stream",
          "text": [
            "WARNING:absl:You are saving your model as an HDF5 file via `model.save()` or `keras.saving.save_model(model)`. This file format is considered legacy. We recommend using instead the native Keras format, e.g. `model.save('my_model.keras')` or `keras.saving.save_model(model, 'my_model.keras')`. \n"
          ]
        },
        {
          "metadata": {
            "tags": null
          },
          "name": "stdout",
          "output_type": "stream",
          "text": [
            "\u001b[1m1801/1801\u001b[0m \u001b[32m━━━━━━━━━━━━━━━━━━━━\u001b[0m\u001b[37m\u001b[0m \u001b[1m148s\u001b[0m 82ms/step - accuracy: 0.8653 - loss: 0.2451 - val_accuracy: 0.7591 - val_loss: 0.6868 - learning_rate: 9.0000e-05\n",
            "Epoch 8/50\n",
            "\u001b[1m1801/1801\u001b[0m \u001b[32m━━━━━━━━━━━━━━━━━━━━\u001b[0m\u001b[37m\u001b[0m \u001b[1m142s\u001b[0m 79ms/step - accuracy: 0.8837 - loss: 0.2201 - val_accuracy: 0.6172 - val_loss: 0.8339 - learning_rate: 9.0000e-05\n",
            "Epoch 9/50\n",
            "\u001b[1m1801/1801\u001b[0m \u001b[32m━━━━━━━━━━━━━━━━━━━━\u001b[0m\u001b[37m\u001b[0m \u001b[1m0s\u001b[0m 59ms/step - accuracy: 0.8821 - loss: 0.2195"
          ]
        },
        {
          "metadata": {
            "tags": null
          },
          "name": "stderr",
          "output_type": "stream",
          "text": [
            "WARNING:absl:You are saving your model as an HDF5 file via `model.save()` or `keras.saving.save_model(model)`. This file format is considered legacy. We recommend using instead the native Keras format, e.g. `model.save('my_model.keras')` or `keras.saving.save_model(model, 'my_model.keras')`. \n"
          ]
        },
        {
          "output_type": "stream",
          "name": "stdout",
          "text": [
            "\u001b[1m1801/1801\u001b[0m \u001b[32m━━━━━━━━━━━━━━━━━━━━\u001b[0m\u001b[37m\u001b[0m \u001b[1m151s\u001b[0m 84ms/step - accuracy: 0.8821 - loss: 0.2195 - val_accuracy: 0.7814 - val_loss: 0.6094 - learning_rate: 9.0000e-05\n",
            "Epoch 10/50\n",
            "\u001b[1m1801/1801\u001b[0m \u001b[32m━━━━━━━━━━━━━━━━━━━━\u001b[0m\u001b[37m\u001b[0m \u001b[1m188s\u001b[0m 105ms/step - accuracy: 0.9051 - loss: 0.1769 - val_accuracy: 0.7784 - val_loss: 0.8457 - learning_rate: 9.0000e-05\n",
            "Epoch 11/50\n",
            "\u001b[1m1801/1801\u001b[0m \u001b[32m━━━━━━━━━━━━━━━━━━━━\u001b[0m\u001b[37m\u001b[0m \u001b[1m147s\u001b[0m 81ms/step - accuracy: 0.9102 - loss: 0.1710 - val_accuracy: 0.7808 - val_loss: 0.9876 - learning_rate: 9.0000e-05\n",
            "Epoch 12/50\n",
            "\u001b[1m1801/1801\u001b[0m \u001b[32m━━━━━━━━━━━━━━━━━━━━\u001b[0m\u001b[37m\u001b[0m \u001b[1m0s\u001b[0m 60ms/step - accuracy: 0.9155 - loss: 0.1593\n",
            "Epoch 12: ReduceLROnPlateau reducing learning rate to 2.700000040931627e-05.\n",
            "\u001b[1m1801/1801\u001b[0m \u001b[32m━━━━━━━━━━━━━━━━━━━━\u001b[0m\u001b[37m\u001b[0m \u001b[1m148s\u001b[0m 82ms/step - accuracy: 0.9155 - loss: 0.1593 - val_accuracy: 0.7619 - val_loss: 0.9079 - learning_rate: 9.0000e-05\n",
            "Epoch 13/50\n",
            "\u001b[1m1801/1801\u001b[0m \u001b[32m━━━━━━━━━━━━━━━━━━━━\u001b[0m\u001b[37m\u001b[0m \u001b[1m153s\u001b[0m 85ms/step - accuracy: 0.9142 - loss: 0.1482 - val_accuracy: 0.7292 - val_loss: 0.6893 - learning_rate: 2.7000e-05\n",
            "Epoch 14/50\n",
            "\u001b[1m1801/1801\u001b[0m \u001b[32m━━━━━━━━━━━━━━━━━━━━\u001b[0m\u001b[37m\u001b[0m \u001b[1m197s\u001b[0m 83ms/step - accuracy: 0.9321 - loss: 0.1205 - val_accuracy: 0.7455 - val_loss: 0.6707 - learning_rate: 2.7000e-05\n",
            "Epoch 15/50\n",
            "\u001b[1m1801/1801\u001b[0m \u001b[32m━━━━━━━━━━━━━━━━━━━━\u001b[0m\u001b[37m\u001b[0m \u001b[1m0s\u001b[0m 60ms/step - accuracy: 0.9411 - loss: 0.1034\n",
            "Epoch 15: ReduceLROnPlateau reducing learning rate to 8.100000013655517e-06.\n",
            "\u001b[1m1801/1801\u001b[0m \u001b[32m━━━━━━━━━━━━━━━━━━━━\u001b[0m\u001b[37m\u001b[0m \u001b[1m146s\u001b[0m 81ms/step - accuracy: 0.9411 - loss: 0.1034 - val_accuracy: 0.7763 - val_loss: 0.7461 - learning_rate: 2.7000e-05\n",
            "Epoch 16/50\n",
            "\u001b[1m1801/1801\u001b[0m \u001b[32m━━━━━━━━━━━━━━━━━━━━\u001b[0m\u001b[37m\u001b[0m \u001b[1m147s\u001b[0m 81ms/step - accuracy: 0.9446 - loss: 0.0985 - val_accuracy: 0.7792 - val_loss: 0.8781 - learning_rate: 8.1000e-06\n",
            "\n",
            "📂 Training Fold 3\n",
            "Epoch 1/50\n",
            "\u001b[1m1801/1801\u001b[0m \u001b[32m━━━━━━━━━━━━━━━━━━━━\u001b[0m\u001b[37m\u001b[0m \u001b[1m0s\u001b[0m 63ms/step - accuracy: 0.5693 - loss: 1.1487"
          ]
        },
        {
          "output_type": "stream",
          "name": "stderr",
          "text": [
            "WARNING:absl:You are saving your model as an HDF5 file via `model.save()` or `keras.saving.save_model(model)`. This file format is considered legacy. We recommend using instead the native Keras format, e.g. `model.save('my_model.keras')` or `keras.saving.save_model(model, 'my_model.keras')`. \n"
          ]
        },
        {
          "output_type": "stream",
          "name": "stdout",
          "text": [
            "\b\b\b\b\b\b\b\b\b\b\b\b\b\b\b\b\b\b\b\b\b\b\b\b\b\b\b\b\b\b\b\b\b\b\b\b\b\b\b\b\b\b\b\b\b\b\b\b\b\b\b\b\b\b\b\b\b\b\b\b\b\b\b\b\b\b\b\b\b\b\b\b\b\b\b\b\b\r\u001b[1m1801/1801\u001b[0m \u001b[32m━━━━━━━━━━━━━━━━━━━━\u001b[0m\u001b[37m\u001b[0m \u001b[1m182s\u001b[0m 88ms/step - accuracy: 0.5693 - loss: 1.1486 - val_accuracy: 0.3340 - val_loss: 1.7854 - learning_rate: 3.0000e-04\n",
            "Epoch 2/50\n",
            "\u001b[1m1801/1801\u001b[0m \u001b[32m━━━━━━━━━━━━━━━━━━━━\u001b[0m\u001b[37m\u001b[0m \u001b[1m143s\u001b[0m 79ms/step - accuracy: 0.6735 - loss: 0.7043 - val_accuracy: 0.1260 - val_loss: 3.2388 - learning_rate: 3.0000e-04\n",
            "Epoch 3/50\n",
            "\u001b[1m1801/1801\u001b[0m \u001b[32m━━━━━━━━━━━━━━━━━━━━\u001b[0m\u001b[37m\u001b[0m \u001b[1m0s\u001b[0m 59ms/step - accuracy: 0.7278 - loss: 0.5508"
          ]
        },
        {
          "output_type": "stream",
          "name": "stderr",
          "text": [
            "WARNING:absl:You are saving your model as an HDF5 file via `model.save()` or `keras.saving.save_model(model)`. This file format is considered legacy. We recommend using instead the native Keras format, e.g. `model.save('my_model.keras')` or `keras.saving.save_model(model, 'my_model.keras')`. \n"
          ]
        },
        {
          "output_type": "stream",
          "name": "stdout",
          "text": [
            "\b\b\b\b\b\b\b\b\b\b\b\b\b\b\b\b\b\b\b\b\b\b\b\b\b\b\b\b\b\b\b\b\b\b\b\b\b\b\b\b\b\b\b\b\b\b\b\b\b\b\b\b\b\b\b\b\b\b\b\b\b\b\b\b\b\b\b\b\b\b\b\b\b\b\b\b\b\r\u001b[1m1801/1801\u001b[0m \u001b[32m━━━━━━━━━━━━━━━━━━━━\u001b[0m\u001b[37m\u001b[0m \u001b[1m148s\u001b[0m 82ms/step - accuracy: 0.7278 - loss: 0.5508 - val_accuracy: 0.3925 - val_loss: 1.4557 - learning_rate: 3.0000e-04\n",
            "Epoch 4/50\n",
            "\u001b[1m1801/1801\u001b[0m \u001b[32m━━━━━━━━━━━━━━━━━━━━\u001b[0m\u001b[37m\u001b[0m \u001b[1m145s\u001b[0m 80ms/step - accuracy: 0.7556 - loss: 0.5303 - val_accuracy: 0.2825 - val_loss: 1.7827 - learning_rate: 3.0000e-04\n",
            "Epoch 5/50\n",
            "\u001b[1m1801/1801\u001b[0m \u001b[32m━━━━━━━━━━━━━━━━━━━━\u001b[0m\u001b[37m\u001b[0m \u001b[1m148s\u001b[0m 82ms/step - accuracy: 0.7537 - loss: 0.5045 - val_accuracy: 0.4198 - val_loss: 2.2434 - learning_rate: 3.0000e-04\n",
            "Epoch 6/50\n",
            "\u001b[1m1801/1801\u001b[0m \u001b[32m━━━━━━━━━━━━━━━━━━━━\u001b[0m\u001b[37m\u001b[0m \u001b[1m0s\u001b[0m 59ms/step - accuracy: 0.7853 - loss: 0.4465\n",
            "Epoch 6: ReduceLROnPlateau reducing learning rate to 9.000000427477062e-05.\n",
            "\u001b[1m1801/1801\u001b[0m \u001b[32m━━━━━━━━━━━━━━━━━━━━\u001b[0m\u001b[37m\u001b[0m \u001b[1m147s\u001b[0m 81ms/step - accuracy: 0.7853 - loss: 0.4465 - val_accuracy: 0.2443 - val_loss: 3.7949 - learning_rate: 3.0000e-04\n",
            "Epoch 7/50\n",
            "\u001b[1m1801/1801\u001b[0m \u001b[32m━━━━━━━━━━━━━━━━━━━━\u001b[0m\u001b[37m\u001b[0m \u001b[1m147s\u001b[0m 82ms/step - accuracy: 0.8444 - loss: 0.2734 - val_accuracy: 0.2847 - val_loss: 1.5076 - learning_rate: 9.0000e-05\n",
            "Epoch 8/50\n",
            "\u001b[1m1801/1801\u001b[0m \u001b[32m━━━━━━━━━━━━━━━━━━━━\u001b[0m\u001b[37m\u001b[0m \u001b[1m0s\u001b[0m 61ms/step - accuracy: 0.8745 - loss: 0.2318"
          ]
        },
        {
          "output_type": "stream",
          "name": "stderr",
          "text": [
            "WARNING:absl:You are saving your model as an HDF5 file via `model.save()` or `keras.saving.save_model(model)`. This file format is considered legacy. We recommend using instead the native Keras format, e.g. `model.save('my_model.keras')` or `keras.saving.save_model(model, 'my_model.keras')`. \n"
          ]
        },
        {
          "output_type": "stream",
          "name": "stdout",
          "text": [
            "\b\b\b\b\b\b\b\b\b\b\b\b\b\b\b\b\b\b\b\b\b\b\b\b\b\b\b\b\b\b\b\b\b\b\b\b\b\b\b\b\b\b\b\b\b\b\b\b\b\b\b\b\b\b\b\b\b\b\b\b\b\b\b\b\b\b\b\b\b\b\b\b\b\b\b\b\b\r\u001b[1m1801/1801\u001b[0m \u001b[32m━━━━━━━━━━━━━━━━━━━━\u001b[0m\u001b[37m\u001b[0m \u001b[1m147s\u001b[0m 81ms/step - accuracy: 0.8745 - loss: 0.2318 - val_accuracy: 0.3596 - val_loss: 1.3801 - learning_rate: 9.0000e-05\n",
            "Epoch 9/50\n",
            "\u001b[1m1801/1801\u001b[0m \u001b[32m━━━━━━━━━━━━━━━━━━━━\u001b[0m\u001b[37m\u001b[0m \u001b[1m0s\u001b[0m 61ms/step - accuracy: 0.8962 - loss: 0.2007"
          ]
        },
        {
          "output_type": "stream",
          "name": "stderr",
          "text": [
            "WARNING:absl:You are saving your model as an HDF5 file via `model.save()` or `keras.saving.save_model(model)`. This file format is considered legacy. We recommend using instead the native Keras format, e.g. `model.save('my_model.keras')` or `keras.saving.save_model(model, 'my_model.keras')`. \n"
          ]
        },
        {
          "output_type": "stream",
          "name": "stdout",
          "text": [
            "\b\b\b\b\b\b\b\b\b\b\b\b\b\b\b\b\b\b\b\b\b\b\b\b\b\b\b\b\b\b\b\b\b\b\b\b\b\b\b\b\b\b\b\b\b\b\b\b\b\b\b\b\b\b\b\b\b\b\b\b\b\b\b\b\b\b\b\b\b\b\b\b\b\b\b\b\b\r\u001b[1m1801/1801\u001b[0m \u001b[32m━━━━━━━━━━━━━━━━━━━━\u001b[0m\u001b[37m\u001b[0m \u001b[1m148s\u001b[0m 82ms/step - accuracy: 0.8962 - loss: 0.2007 - val_accuracy: 0.7015 - val_loss: 0.7005 - learning_rate: 9.0000e-05\n",
            "Epoch 10/50\n",
            "\u001b[1m1801/1801\u001b[0m \u001b[32m━━━━━━━━━━━━━━━━━━━━\u001b[0m\u001b[37m\u001b[0m \u001b[1m0s\u001b[0m 61ms/step - accuracy: 0.9098 - loss: 0.1730"
          ]
        },
        {
          "output_type": "stream",
          "name": "stderr",
          "text": [
            "WARNING:absl:You are saving your model as an HDF5 file via `model.save()` or `keras.saving.save_model(model)`. This file format is considered legacy. We recommend using instead the native Keras format, e.g. `model.save('my_model.keras')` or `keras.saving.save_model(model, 'my_model.keras')`. \n"
          ]
        },
        {
          "output_type": "stream",
          "name": "stdout",
          "text": [
            "\b\b\b\b\b\b\b\b\b\b\b\b\b\b\b\b\b\b\b\b\b\b\b\b\b\b\b\b\b\b\b\b\b\b\b\b\b\b\b\b\b\b\b\b\b\b\b\b\b\b\b\b\b\b\b\b\b\b\b\b\b\b\b\b\b\b\b\b\b\b\b\b\b\b\b\b\b\r\u001b[1m1801/1801\u001b[0m \u001b[32m━━━━━━━━━━━━━━━━━━━━\u001b[0m\u001b[37m\u001b[0m \u001b[1m152s\u001b[0m 85ms/step - accuracy: 0.9098 - loss: 0.1730 - val_accuracy: 0.7183 - val_loss: 0.6828 - learning_rate: 9.0000e-05\n",
            "Epoch 11/50\n",
            "\u001b[1m1801/1801\u001b[0m \u001b[32m━━━━━━━━━━━━━━━━━━━━\u001b[0m\u001b[37m\u001b[0m \u001b[1m152s\u001b[0m 85ms/step - accuracy: 0.9175 - loss: 0.1595 - val_accuracy: 0.7171 - val_loss: 0.8246 - learning_rate: 9.0000e-05\n",
            "Epoch 12/50\n",
            "\u001b[1m1801/1801\u001b[0m \u001b[32m━━━━━━━━━━━━━━━━━━━━\u001b[0m\u001b[37m\u001b[0m \u001b[1m144s\u001b[0m 80ms/step - accuracy: 0.9173 - loss: 0.1448 - val_accuracy: 0.5976 - val_loss: 0.9312 - learning_rate: 9.0000e-05\n",
            "Epoch 13/50\n",
            "\u001b[1m1801/1801\u001b[0m \u001b[32m━━━━━━━━━━━━━━━━━━━━\u001b[0m\u001b[37m\u001b[0m \u001b[1m0s\u001b[0m 59ms/step - accuracy: 0.9266 - loss: 0.1414"
          ]
        },
        {
          "output_type": "stream",
          "name": "stderr",
          "text": [
            "WARNING:absl:You are saving your model as an HDF5 file via `model.save()` or `keras.saving.save_model(model)`. This file format is considered legacy. We recommend using instead the native Keras format, e.g. `model.save('my_model.keras')` or `keras.saving.save_model(model, 'my_model.keras')`. \n"
          ]
        },
        {
          "output_type": "stream",
          "name": "stdout",
          "text": [
            "\b\b\b\b\b\b\b\b\b\b\b\b\b\b\b\b\b\b\b\b\b\b\b\b\b\b\b\b\b\b\b\b\b\b\b\b\b\b\b\b\b\b\b\b\b\b\b\b\b\b\b\b\b\b\b\b\b\b\b\b\b\b\b\b\b\b\b\b\b\b\b\b\b\b\b\b\b\r\u001b[1m1801/1801\u001b[0m \u001b[32m━━━━━━━━━━━━━━━━━━━━\u001b[0m\u001b[37m\u001b[0m \u001b[1m202s\u001b[0m 80ms/step - accuracy: 0.9266 - loss: 0.1414 - val_accuracy: 0.7680 - val_loss: 0.5734 - learning_rate: 9.0000e-05\n",
            "Epoch 14/50\n",
            "\u001b[1m1801/1801\u001b[0m \u001b[32m━━━━━━━━━━━━━━━━━━━━\u001b[0m\u001b[37m\u001b[0m \u001b[1m143s\u001b[0m 79ms/step - accuracy: 0.9353 - loss: 0.1105 - val_accuracy: 0.7626 - val_loss: 0.8239 - learning_rate: 9.0000e-05\n",
            "Epoch 15/50\n",
            "\u001b[1m1801/1801\u001b[0m \u001b[32m━━━━━━━━━━━━━━━━━━━━\u001b[0m\u001b[37m\u001b[0m \u001b[1m142s\u001b[0m 79ms/step - accuracy: 0.9358 - loss: 0.1145 - val_accuracy: 0.6588 - val_loss: 0.9364 - learning_rate: 9.0000e-05\n",
            "Epoch 16/50\n",
            "\u001b[1m1801/1801\u001b[0m \u001b[32m━━━━━━━━━━━━━━━━━━━━\u001b[0m\u001b[37m\u001b[0m \u001b[1m0s\u001b[0m 60ms/step - accuracy: 0.9265 - loss: 0.1410\n",
            "Epoch 16: ReduceLROnPlateau reducing learning rate to 2.700000040931627e-05.\n",
            "\u001b[1m1801/1801\u001b[0m \u001b[32m━━━━━━━━━━━━━━━━━━━━\u001b[0m\u001b[37m\u001b[0m \u001b[1m144s\u001b[0m 80ms/step - accuracy: 0.9265 - loss: 0.1410 - val_accuracy: 0.7824 - val_loss: 1.4106 - learning_rate: 9.0000e-05\n",
            "Epoch 17/50\n",
            "\u001b[1m1801/1801\u001b[0m \u001b[32m━━━━━━━━━━━━━━━━━━━━\u001b[0m\u001b[37m\u001b[0m \u001b[1m143s\u001b[0m 79ms/step - accuracy: 0.9427 - loss: 0.1043 - val_accuracy: 0.7784 - val_loss: 1.1532 - learning_rate: 2.7000e-05\n",
            "Epoch 18/50\n",
            "\u001b[1m1801/1801\u001b[0m \u001b[32m━━━━━━━━━━━━━━━━━━━━\u001b[0m\u001b[37m\u001b[0m \u001b[1m143s\u001b[0m 80ms/step - accuracy: 0.9511 - loss: 0.0841 - val_accuracy: 0.7757 - val_loss: 0.8051 - learning_rate: 2.7000e-05\n",
            "Epoch 19/50\n",
            "\u001b[1m1801/1801\u001b[0m \u001b[32m━━━━━━━━━━━━━━━━━━━━\u001b[0m\u001b[37m\u001b[0m \u001b[1m0s\u001b[0m 58ms/step - accuracy: 0.9536 - loss: 0.0848\n",
            "Epoch 19: ReduceLROnPlateau reducing learning rate to 8.100000013655517e-06.\n",
            "\u001b[1m1801/1801\u001b[0m \u001b[32m━━━━━━━━━━━━━━━━━━━━\u001b[0m\u001b[37m\u001b[0m \u001b[1m143s\u001b[0m 79ms/step - accuracy: 0.9536 - loss: 0.0848 - val_accuracy: 0.7795 - val_loss: 0.8072 - learning_rate: 2.7000e-05\n",
            "Epoch 20/50\n",
            "\u001b[1m1801/1801\u001b[0m \u001b[32m━━━━━━━━━━━━━━━━━━━━\u001b[0m\u001b[37m\u001b[0m \u001b[1m153s\u001b[0m 85ms/step - accuracy: 0.9562 - loss: 0.0789 - val_accuracy: 0.7838 - val_loss: 0.8597 - learning_rate: 8.1000e-06\n"
          ]
        }
      ]
    },
    {
      "cell_type": "code",
      "source": [
        "# Evaluation: Classification Report + Confusion Matrix\n",
        "val_imgs, val_lbls = val_gen.__getitem__(0)\n",
        "pred_probs = model.predict(val_imgs)\n",
        "pred_labels = np.argmax(pred_probs, axis=1)\n",
        "true_labels = np.argmax(val_lbls, axis=1)\n",
        "\n",
        "# Handle possible missing classes\n",
        "label_list = list(range(len(le.classes_)))\n",
        "\n",
        "# Classification Report\n",
        "print(\"Classification Report:\\n\", classification_report(\n",
        "    true_labels, pred_labels,\n",
        "    labels=label_list,\n",
        "    target_names=le.classes_,\n",
        "    zero_division=0\n",
        "))\n",
        "\n",
        "# Confusion Matrix with fixed labels\n",
        "cm = confusion_matrix(true_labels, pred_labels, labels=label_list)\n",
        "\n",
        "# Confusion Matrix Plot with diagonal labels\n",
        "plt.figure(figsize=(8, 6))\n",
        "sns.heatmap(cm, annot=True, fmt='d', cmap='Blues',\n",
        "            xticklabels=le.classes_, yticklabels=le.classes_)\n",
        "\n",
        "# Add diagonal class names (where applicable)\n",
        "for i in range(len(le.classes_)):\n",
        "    if cm[i][i] > 0:\n",
        "        plt.text(i + 0.3, i + 0.5, le.classes_[i],\n",
        "                 fontsize=10, color='black', va='center')\n",
        "\n",
        "plt.title(\"Confusion Matrix with Class Labels on Diagonal\")\n",
        "plt.xlabel(\"Predicted\")\n",
        "plt.ylabel(\"Actual\")\n",
        "plt.tight_layout()\n",
        "plt.show()\n",
        "\n"
      ],
      "metadata": {
        "colab": {
          "base_uri": "https://localhost:8080/",
          "height": 842
        },
        "id": "BkKPrGQ8jV2k",
        "outputId": "78697baf-8809-4f12-a275-9519d28e2d92"
      },
      "execution_count": 20,
      "outputs": [
        {
          "output_type": "stream",
          "name": "stdout",
          "text": [
            "\u001b[1m1/1\u001b[0m \u001b[32m━━━━━━━━━━━━━━━━━━━━\u001b[0m\u001b[37m\u001b[0m \u001b[1m0s\u001b[0m 69ms/step\n",
            "Classification Report:\n",
            "                     precision    recall  f1-score   support\n",
            "\n",
            "     Mild Dementia       0.25      0.50      0.33         2\n",
            " Moderate Dementia       0.00      0.00      0.00         0\n",
            "      Non Demented       0.82      0.88      0.85        26\n",
            "Very mild Dementia       0.00      0.00      0.00         4\n",
            "\n",
            "          accuracy                           0.75        32\n",
            "         macro avg       0.27      0.35      0.30        32\n",
            "      weighted avg       0.68      0.75      0.71        32\n",
            "\n"
          ]
        },
        {
          "output_type": "display_data",
          "data": {
            "text/plain": [
              "<Figure size 800x600 with 2 Axes>"
            ],
            "image/png": "[encoded data removed]"
          },
          "metadata": {}
        }
      ]
    },
    {
      "cell_type": "code",
      "source": [
        "# Plot Accuracy and Loss for the last fold\n",
        "plt.figure(figsize=(12, 5))\n",
        "\n",
        "plt.subplot(1, 2, 1)\n",
        "plt.plot(history.history['accuracy'], label='Train Accuracy')\n",
        "plt.plot(history.history['val_accuracy'], label='Val Accuracy')\n",
        "plt.title('Model Accuracy (Last Fold)')\n",
        "plt.xlabel('Epochs')\n",
        "plt.ylabel('Accuracy')\n",
        "plt.legend()\n",
        "plt.grid(True)\n",
        "\n",
        "plt.subplot(1, 2, 2)\n",
        "plt.plot(history.history['loss'], label='Train Loss')\n",
        "plt.plot(history.history['val_loss'], label='Val Loss')\n",
        "plt.title('Model Loss (Last Fold)')\n",
        "plt.xlabel('Epochs')\n",
        "plt.ylabel('Loss')\n",
        "plt.legend()\n",
        "plt.grid(True)\n",
        "\n",
        "plt.tight_layout()\n",
        "plt.show()\n"
      ],
      "metadata": {
        "colab": {
          "base_uri": "https://localhost:8080/",
          "height": 507
        },
        "id": "IoI6pYPRDHyy",
        "outputId": "59645998-7af7-429b-bf12-94ebe058d310"
      },
      "execution_count": 22,
      "outputs": [
        {
          "output_type": "display_data",
          "data": {
            "text/plain": [
              "<Figure size 1200x500 with 2 Axes>"
            ],
            "image/png": "[encoded data removed]"
          },
          "metadata": {}
        }
      ]
    },
    {
      "cell_type": "code",
      "source": [
        "def get_gradcam_heatmap(model, image, class_idx):\n",
        "    last_conv_layer_name = [layer.name for layer in model.layers if 'conv' in layer.name][-1]\n",
        "    grad_model = tf.keras.models.Model([model.inputs], [model.get_layer(last_conv_layer_name).output, model.output])\n",
        "\n",
        "    with tf.GradientTape() as tape:\n",
        "        conv_outputs, predictions = grad_model(tf.expand_dims(image, axis=0))\n",
        "        loss = predictions[:, class_idx]\n",
        "\n",
        "    grads = tape.gradient(loss, conv_outputs)[0]\n",
        "    weights = tf.reduce_mean(grads, axis=(0, 1))\n",
        "    cam = np.dot(conv_outputs[0], weights.numpy())\n",
        "    cam = np.maximum(cam, 0)\n",
        "    cam = cam / (cam.max() + 1e-8)\n",
        "    cam = cv2.resize(cam, (IMG_SIZE, IMG_SIZE))\n",
        "    return cam\n",
        "\n",
        "\n",
        "\n",
        "def grad_cam_explanation(image, class_idx):\n",
        "    cam = get_gradcam_heatmap(model, image, class_idx)\n",
        "    heatmap = cv2.applyColorMap(np.uint8(255 * cam), cv2.COLORMAP_JET)\n",
        "    image = cv2.resize(image, (IMG_SIZE, IMG_SIZE))\n",
        "    superimposed_img = cv2.addWeighted(image, 0.6, heatmap, 0.4, 0)\n",
        "    return superimposed_img\n",
        "\n",
        "\n",
        "\n",
        "def predict_mri_with_gradcam(image):\n",
        "    img_resized = cv2.resize(image, (IMG_SIZE, IMG_SIZE))\n",
        "    img_norm = img_resized / 255.0\n",
        "    img_expanded = np.expand_dims(img_norm, axis=0)\n",
        "\n",
        "    pred = model.predict(img_expanded)[0]\n",
        "    class_idx = np.argmax(pred)\n",
        "    class_name = le.inverse_transform([class_idx])[0]\n",
        "    confidence = np.max(pred) * 100\n",
        "\n",
        "    gradcam_img = grad_cam_explanation(img_resized, class_idx)\n",
        "\n",
        "    suggestions = {\n",
        "        \"NonDemented\": \"No signs of Alzheimer’s. Maintain cognitive health.\",\n",
        "\n",
        "        \"VeryMildDemented\": \"Very mild signs. Consider regular checkups.\",\n",
        "        \"MildDemented\": \"Mild dementia detected. Schedule a consultation.\",\n",
        "        \"ModerateDemented\": \"Moderate dementia. Seek medical attention immediately.\"\n",
        "    }\n",
        "\n",
        "    return f\"Prediction: {class_name}\\nConfidence: {confidence:.2f}%\\n\\nSuggestion: {suggestions[class_name]}\", gradcam_img\n",
        "\n",
        "# 🎛️ Launch Gradio Interface\n",
        "interface = gr.Interface(fn=predict_mri_with_gradcam,\n",
        "                         inputs=gr.Image(type=\"numpy\", label=\"Upload MRI Scan\"),\n",
        "                         outputs=[gr.Textbox(label=\"Prediction & Suggestions\"),\n",
        "                                  gr.Image(label=\"Grad-CAM Heatmap\")],\n",
        "                         title=\"🧠 Alzheimer MRI Classifier (MobileNetV2 Only)\",\n",
        "                         description=\"Upload an MRI scan to classify Alzheimer's stage with confidence score and Grad-CAM visualization.\")\n",
        "interface.launch(share=True)\n",
        "\n"
      ],
      "metadata": {
        "colab": {
          "base_uri": "https://localhost:8080/",
          "height": 613
        },
        "id": "MmwwD8crDP-q",
        "outputId": "3f3fa40d-382e-4073-dd7f-0149307b8a46"
      },
      "execution_count": 30,
      "outputs": [
        {
          "output_type": "stream",
          "name": "stdout",
          "text": [
            "Colab notebook detected. To show errors in colab notebook, set debug=True in launch()\n",
            "* Running on public URL: https://c147480a3d3f22ba0d.gradio.live\n",
            "\n",
            "This share link expires in 1 week. For free permanent hosting and GPU upgrades, run `gradio deploy` from the terminal in the working directory to deploy to Hugging Face Spaces (https://huggingface.co/spaces)\n"
          ]
        },
        {
          "output_type": "display_data",
          "data": {
            "text/plain": [
              "<IPython.core.display.HTML object>"
            ],
            "text/html": [
              "<div><iframe src=\"https://c147480a3d3f22ba0d.gradio.live\" width=\"100%\" height=\"500\" allow=\"autoplay; camera; microphone; clipboard-read; clipboard-write;\" frameborder=\"0\" allowfullscreen></iframe></div>"
            ]
          },
          "metadata": {}
        },
        {
          "output_type": "execute_result",
          "data": {
            "text/plain": []
          },
          "metadata": {},
          "execution_count": 30
        }
      ]
    },
    {
      "cell_type": "code",
      "source": [],
      "metadata": {
        "id": "tZxNqajxlPRx"
      },
      "execution_count": null,
      "outputs": []
    }
  ]
}